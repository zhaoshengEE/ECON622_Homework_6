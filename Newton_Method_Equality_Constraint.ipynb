{
 "cells": [
  {
   "cell_type": "markdown",
   "metadata": {},
   "source": [
    "## Add support for equality constraints to Newton's Method"
   ]
  },
  {
   "cell_type": "markdown",
   "metadata": {},
   "source": [
    "### Find argmin[f(x)] s.t. c(x) = 0 by using Newton's Method"
   ]
  },
  {
   "cell_type": "code",
   "execution_count": 1,
   "metadata": {},
   "outputs": [],
   "source": [
    "using LinearAlgebra\n",
    "using ForwardDiff"
   ]
  },
  {
   "cell_type": "code",
   "execution_count": 2,
   "metadata": {},
   "outputs": [
    {
     "data": {
      "text/plain": [
       "newton (generic function with 1 method)"
      ]
     },
     "execution_count": 2,
     "metadata": {},
     "output_type": "execute_result"
    }
   ],
   "source": [
    "function newton(f, x0, c;\n",
    "                grad=x->ForwardDiff.gradient(f,x),\n",
    "                hess=x->ForwardDiff.hessian(f,x),\n",
    "                ftol = 1e-6,\n",
    "                xtol = 1e-4, gtol=1-6, maxiter = 1000, \n",
    "                xrange=[-2., 3.],\n",
    "                yrange=[-2.,6.], animate=true)\n",
    "  fold = f(x0)\n",
    "  xold = x0\n",
    "  xchange = Inf\n",
    "  fchange = Inf\n",
    "  iter = 0\n",
    "  stuck = 0\n",
    "\n",
    "  g = grad(xold)\n",
    "  \n",
    "  # Here I apply the constraint equation\n",
    "  all(c(x0) .≈ 0) || error(\"interiorpoint requires a starting value that strictly satisfies all constraints\")\n",
    "    \n",
    "  while(iter < maxiter && ((xchange>xtol) || (fchange>ftol) || (stuck>0)\n",
    "                           || norm(g)>gtol) )\n",
    "    g = grad(xold)\n",
    "    H = hess(xold)\n",
    "    Δx = - inv(H)*g\n",
    "    x = xold + Δx\n",
    "    fnew = f(x)\n",
    "    step = 1.0\n",
    "    acceptedstep = false\n",
    "        \n",
    "    while (step>xtol)\n",
    "      step /= 1.618\n",
    "      x = xold + Δx*step\n",
    "      if (all(c(x0) .≈ 0))   # Here I apply the constraint equation\n",
    "        acceptedstep = true\n",
    "        break\n",
    "      end\n",
    "    end\n",
    "    \n",
    "    # If constraint equation has never been satisfied, the algorithm stops\n",
    "    if !acceptedstep                      \n",
    "      stuck = 1\n",
    "      break\n",
    "    end\n",
    "    \n",
    "    # Otherwise, the algorithm proceeds as usual\n",
    "    fnew = f(x)\n",
    "        \n",
    "    if (fnew>=fold)\n",
    "      stuck += 1\n",
    "      if (stuck>=10)\n",
    "        break\n",
    "      end\n",
    "    else\n",
    "      stuck = 0\n",
    "      xold = x\n",
    "      fold = fnew\n",
    "    end\n",
    "        \n",
    "    xchange = norm(x-xold)\n",
    "    fchange = abs(fnew-fold)\n",
    "    iter += 1\n",
    "  end\n",
    "    \n",
    "  if (iter >= maxiter)\n",
    "    info = \"Maximum iterations reached\"\n",
    "  elseif (stuck > 0)\n",
    "    info = \"Failed to improve for \" * string(stuck) * \" iterations.\"\n",
    "  else\n",
    "    info = \"Convergence.\"\n",
    "  end\n",
    "  return(fold, xold, iter, info) \n",
    "end"
   ]
  },
  {
   "cell_type": "code",
   "execution_count": 3,
   "metadata": {},
   "outputs": [],
   "source": [
    "function banana(a,b)\n",
    "  x->(a-x[1])^2+b*(x[2]-x[1]^2)^2\n",
    "end\n",
    "f = banana(1.0,1.0)\n",
    "\n",
    "x0 = [3.0, 3.0];"
   ]
  },
  {
   "cell_type": "code",
   "execution_count": 4,
   "metadata": {},
   "outputs": [
    {
     "data": {
      "text/plain": [
       "constraint (generic function with 1 method)"
      ]
     },
     "execution_count": 4,
     "metadata": {},
     "output_type": "execute_result"
    }
   ],
   "source": [
    "function constraint(x)\n",
    "  [x[1] - x[2]]\n",
    "end"
   ]
  },
  {
   "cell_type": "code",
   "execution_count": 5,
   "metadata": {},
   "outputs": [
    {
     "data": {
      "text/plain": [
       "(4.930380657631324e-32, [1.0000000000000002, 1.0000000000000004], 52, \"Failed to improve for 10 iterations.\")"
      ]
     },
     "execution_count": 5,
     "metadata": {},
     "output_type": "execute_result"
    }
   ],
   "source": [
    "result = newton(f, x0, constraint)"
   ]
  },
  {
   "cell_type": "markdown",
   "metadata": {},
   "source": [
    "#### Adding the equality constraints leads to more number of iterations in the algorithm"
   ]
  }
 ],
 "metadata": {
  "kernelspec": {
   "display_name": "Julia 1.5.2",
   "language": "julia",
   "name": "julia-1.5"
  },
  "language_info": {
   "file_extension": ".jl",
   "mimetype": "application/julia",
   "name": "julia",
   "version": "1.5.2"
  }
 },
 "nbformat": 4,
 "nbformat_minor": 4
}
